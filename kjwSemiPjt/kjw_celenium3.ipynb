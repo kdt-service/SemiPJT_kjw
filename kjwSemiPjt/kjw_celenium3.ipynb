{
 "cells": [
  {
   "cell_type": "code",
   "execution_count": 14,
   "id": "108239e2",
   "metadata": {},
   "outputs": [],
   "source": [
    "from selenium import webdriver\n",
    "from selenium.webdriver.chrome.service import Service\n",
    "from webdriver_manager.chrome import ChromeDriverManager\n",
    "driver = webdriver.Chrome(\n",
    "service=Service(ChromeDriverManager().install()))"
   ]
  },
  {
   "cell_type": "code",
   "execution_count": 59,
   "id": "920197ee",
   "metadata": {},
   "outputs": [],
   "source": [
    "driver.get('https://www.jungle.co.kr/')"
   ]
  },
  {
   "cell_type": "code",
   "execution_count": 4,
   "id": "593b2dab",
   "metadata": {},
   "outputs": [],
   "source": [
    "from selenium.webdriver.common.keys import Keys"
   ]
  },
  {
   "cell_type": "code",
   "execution_count": 5,
   "id": "0fbf1484",
   "metadata": {},
   "outputs": [],
   "source": [
    "from selenium import webdriver"
   ]
  },
  {
   "cell_type": "code",
   "execution_count": 14,
   "id": "3388c7c9",
   "metadata": {},
   "outputs": [],
   "source": [
    "from selenium.webdriver.common.by import By\n",
    "element = driver.find_element(By.CLASS_NAME, 'thumb_list')"
   ]
  },
  {
   "cell_type": "code",
   "execution_count": 15,
   "id": "cb775be3",
   "metadata": {},
   "outputs": [
    {
     "data": {
      "text/plain": [
       "<selenium.webdriver.remote.webelement.WebElement (session=\"b856501bcd9cc9a9d7f4ae94e3716a11\", element=\"2fd6fd78-6944-4b54-866f-e3e681686201\")>"
      ]
     },
     "execution_count": 15,
     "metadata": {},
     "output_type": "execute_result"
    }
   ],
   "source": [
    "element"
   ]
  },
  {
   "cell_type": "code",
   "execution_count": 45,
   "id": "c01c96bf",
   "metadata": {},
   "outputs": [],
   "source": [
    "elements = driver.find_elements(By.TAG_NAME,'li')"
   ]
  },
  {
   "cell_type": "code",
   "execution_count": 2,
   "id": "2b5197a2",
   "metadata": {},
   "outputs": [],
   "source": [
    "# for element in elements:\n",
    "#     print(element.text)"
   ]
  },
  {
   "cell_type": "code",
   "execution_count": 47,
   "id": "0e853ba1",
   "metadata": {},
   "outputs": [],
   "source": [
    "img_tag = driver.find_element(By.CSS_SELECTOR, '.zoom > img')"
   ]
  },
  {
   "cell_type": "code",
   "execution_count": 48,
   "id": "44dc18ac",
   "metadata": {},
   "outputs": [
    {
     "data": {
      "text/plain": [
       "'https://www.jungle.co.kr/image/9c7212ad49c7afea7af381f2?w=360&h=200'"
      ]
     },
     "execution_count": 48,
     "metadata": {},
     "output_type": "execute_result"
    }
   ],
   "source": [
    "img_tag.get_attribute('src')"
   ]
  },
  {
   "cell_type": "code",
   "execution_count": 60,
   "id": "e5e76e54",
   "metadata": {},
   "outputs": [],
   "source": [
    "#검색 아이콘 찾아서 클릭\n",
    "element=driver.find_element(By.ID, 'top-search')"
   ]
  },
  {
   "cell_type": "code",
   "execution_count": 61,
   "id": "9d94a176",
   "metadata": {},
   "outputs": [],
   "source": [
    "element.click()"
   ]
  },
  {
   "cell_type": "code",
   "execution_count": 62,
   "id": "e829f4b7",
   "metadata": {},
   "outputs": [],
   "source": [
    "#검색어를 입력하는 ID가 top-search-keyword인 inputbox를 연결시켜 주는 기능이다.\n",
    "element2 = driver.find_element(By.ID, 'top-search-keyword')"
   ]
  },
  {
   "cell_type": "code",
   "execution_count": 63,
   "id": "7bacfae8",
   "metadata": {},
   "outputs": [],
   "source": [
    "#inputbox안에 phython 단어가 입력되도록 아래와 같이 코딩\n",
    "element2.send_keys('phython')"
   ]
  },
  {
   "cell_type": "code",
   "execution_count": 64,
   "id": "a28a27f8",
   "metadata": {},
   "outputs": [],
   "source": [
    "from selenium.webdriver.common.keys import Keys"
   ]
  },
  {
   "cell_type": "code",
   "execution_count": 65,
   "id": "b5e69ac5",
   "metadata": {},
   "outputs": [],
   "source": [
    "element2.send_keys(Keys.ENTER)"
   ]
  },
  {
   "cell_type": "code",
   "execution_count": 37,
   "id": "3d0f5496",
   "metadata": {},
   "outputs": [],
   "source": [
    "#참고 위와 같이 keys 사용하지 않고, 바로 driver.find_elements를 하는 아래의 방법\n",
    "driver.get('https://www.jungle.co.kr/search\"q=java')"
   ]
  },
  {
   "cell_type": "code",
   "execution_count": 15,
   "id": "e1303043",
   "metadata": {},
   "outputs": [],
   "source": [
    "#실습 1\n",
    "\n",
    "# driver.get('https://www.jungle.co.kr/')"
   ]
  },
  {
   "cell_type": "code",
   "execution_count": 97,
   "id": "66dc18eb",
   "metadata": {},
   "outputs": [],
   "source": [
    "# 카드부분 li 태그 를 찾아오기\n",
    "elements = driver.find_elements(By.CSS_SELECTOR, '.thumb_list li')"
   ]
  },
  {
   "cell_type": "code",
   "execution_count": 98,
   "id": "88a53c05",
   "metadata": {},
   "outputs": [
    {
     "data": {
      "text/plain": [
       "198"
      ]
     },
     "execution_count": 98,
     "metadata": {},
     "output_type": "execute_result"
    }
   ],
   "source": [
    "len(elements)"
   ]
  },
  {
   "cell_type": "code",
   "execution_count": 114,
   "id": "2bc92960",
   "metadata": {},
   "outputs": [],
   "source": [
    "# 비동기 방식 html문서의 스크롤링에 쉽고 간단하게 사용할 수 있는 도구가\n",
    "# 셀레니움 selenium인데, 단점은 속도가 느리다.\n",
    "\n",
    "# for element in elements:\n",
    "#     title_elem = element.find_element(By.CLASS_NAME, 'thumb_title') # 제목\n",
    "#     cate_elem = element.find_element(By.CLASS_NAME, 'thumb_cate') # 카테고리\n",
    "#     print(title_elem.text, cate_elem.text)"
   ]
  },
  {
   "cell_type": "code",
   "execution_count": 95,
   "id": "a238944c",
   "metadata": {},
   "outputs": [],
   "source": [
    "# import time\n",
    "# for i in range(10):\n",
    "#     element = driver.find_element(By.ID, 'existMore')\n",
    "#     element.click()\n",
    "#     time.sleep(3)"
   ]
  },
  {
   "cell_type": "code",
   "execution_count": 100,
   "id": "2dc4e0ce",
   "metadata": {},
   "outputs": [],
   "source": [
    "# html 페이지의 맨 밑으로 이동 시키는 코딩\n",
    "driver.execute_script(\"window.scrollTo(0,document.body.scrollHeight);\")"
   ]
  },
  {
   "cell_type": "code",
   "execution_count": 6,
   "id": "608f9698",
   "metadata": {},
   "outputs": [],
   "source": [
    "driver.get('https://www.jungle.co.kr/')\n",
    "\n",
    "import time\n",
    "\n",
    "# for i in range(100):\n",
    "#     element = driver.find_element(By.ID, 'existMore')\n",
    "#     element.click()\n",
    "#     time.sleep(3)\n",
    "#     elements = driver.find_elements(By.CSS_SELECTOR, '.thumb_list li')\n",
    "#     print(len(elements))\n",
    "\n",
    "    # for element in elements:\n",
    "    #     title_elem = element.find_element(By.CLASS_NAME, 'thumb_title') # 제목\n",
    "    #     cate_elem = element.find_element(By.CLASS_NAME, 'thumb_cate') # 카테고리\n",
    "    #     print(title_elem.text, cate_elem.text)"
   ]
  },
  {
   "cell_type": "code",
   "execution_count": 116,
   "id": "57f297cb",
   "metadata": {},
   "outputs": [
    {
     "data": {
      "text/plain": [
       "192"
      ]
     },
     "execution_count": 116,
     "metadata": {},
     "output_type": "execute_result"
    }
   ],
   "source": [
    "len(elements)"
   ]
  },
  {
   "cell_type": "code",
   "execution_count": null,
   "id": "aaa01396",
   "metadata": {},
   "outputs": [],
   "source": [
    "# 맨 밑으로 이동\n",
    "driver.execute_script(\"window.scrollTo(0,document.body.scrollHeight);\")"
   ]
  },
  {
   "cell_type": "code",
   "execution_count": null,
   "id": "1e509e2e",
   "metadata": {},
   "outputs": [],
   "source": [
    "# 실전 01\n",
    "# - 로켓펀치 채용페이지 총 10페이지 셀레니움으로 크롤링\n",
    "# - (회사명, 회사설명, 채용정보(회사별 여러 개))\n",
    "# - https://www.rocketpunch.com/jobs\n",
    "# 결과 :\n",
    "# [{'name': '에이블리코퍼레이션’,\n",
    "# 'description': '700만 다운로드 패션 커머스 플랫폼 에이블리 입니\n",
    "# 다.\\xa0',\n",
    "# 'detail': ['iOS 개발자 (병역특례가능)', '안드로이드 개발자\n",
    "# (병역특례가능)’]},\n",
    "# ..., ]"
   ]
  },
  {
   "cell_type": "code",
   "execution_count": 27,
   "id": "653ea580",
   "metadata": {},
   "outputs": [],
   "source": [
    "# 셀레니움 크롤링을 할때마다 아래 설정을 실행하고 , 빈 공백의 html문서가 팝업되어야 크롤링을 시작할 수 있습니다.\n",
    "# 빈 공백의 html문서가 팝업되어 있지 않으면, driver.get() 실행시 에러가 발생됩니다.\n",
    "from selenium import webdriver\n",
    "from selenium.webdriver.chrome.service import Service\n",
    "from webdriver_manager.chrome import ChromeDriverManager\n",
    "driver = webdriver.Chrome(\n",
    "service=Service(ChromeDriverManager().install()))"
   ]
  },
  {
   "cell_type": "code",
   "execution_count": 28,
   "id": "7f7d7cb9",
   "metadata": {},
   "outputs": [],
   "source": [
    "from selenium.webdriver.common.by import By"
   ]
  },
  {
   "cell_type": "code",
   "execution_count": 29,
   "id": "a525a396",
   "metadata": {},
   "outputs": [],
   "source": [
    "from selenium.webdriver.common.keys import Keys"
   ]
  },
  {
   "cell_type": "code",
   "execution_count": 30,
   "id": "db50fbba",
   "metadata": {},
   "outputs": [],
   "source": [
    "driver.get('https://www.rocketpunch.com/jobs')"
   ]
  },
  {
   "cell_type": "code",
   "execution_count": 31,
   "id": "8d43aac2",
   "metadata": {},
   "outputs": [],
   "source": [
    "companies = driver.find_elements(By.CSS_SELECTOR, '.company_list > .company.item')"
   ]
  },
  {
   "cell_type": "code",
   "execution_count": 32,
   "id": "1b508c87",
   "metadata": {},
   "outputs": [],
   "source": [
    "def rocket_crawl():\n",
    "    rocket_result = []\n",
    "    companies = driver.find_elements(By.CSS_SELECTOR, \n",
    "                                 '.company-list > .company.item')\n",
    "    for company in companies:\n",
    "        company_name = company.find_element(By.CLASS_NAME, 'company-name').text\n",
    "        company_desc = company.find_element(By.CLASS_NAME, 'description').text\n",
    "\n",
    "        jobs = company.find_elements(By.CLASS_NAME, 'job-detail')\n",
    "        details = []\n",
    "        for job in jobs:\n",
    "            a_tag = job.find_element(By.TAG_NAME, 'a')\n",
    "            a_tag.text # 공고명\n",
    "            a_tag.get_attribute('href') # 공고링크\n",
    "            details.append({\n",
    "                '공고명': a_tag.text,\n",
    "                '링크': a_tag.get_attribute('href'),\n",
    "            })\n",
    "        \n",
    "        rocket_result.append({\n",
    "            '회사명': company_name,\n",
    "            '회사설명': company_desc,\n",
    "            '채용공고': details\n",
    "        })\n",
    "\n",
    "    return rocket_result"
   ]
  },
  {
   "cell_type": "code",
   "execution_count": 33,
   "id": "93488bda",
   "metadata": {},
   "outputs": [],
   "source": [
    "final_result = rocket_crawl()\n",
    "\n",
    "import time\n",
    "\n",
    "for next_page in range(2, 11):\n",
    "    # 1. 맨 밑으로 이동\n",
    "    driver.execute_script(\"window.scrollTo(0,document.body.scrollHeight);\")\n",
    "    # 2. 페이지 elements 찾기\n",
    "    pages = driver.find_elements(By.CSS_SELECTOR, '.computer.tablet .item')\n",
    "    \n",
    "    # 3. 다음 페이지 클릭\n",
    "    for page_elem in pages:\n",
    "        if page_elem.text == str(next_page):\n",
    "            page_elem.click()\n",
    "            break\n",
    "    \n",
    "    time.sleep(3)\n",
    "    final_result.extend(rocket_crawl())"
   ]
  },
  {
   "cell_type": "code",
   "execution_count": null,
   "id": "00ab9842",
   "metadata": {},
   "outputs": [],
   "source": []
  }
 ],
 "metadata": {
  "kernelspec": {
   "display_name": "study",
   "language": "python",
   "name": "python3"
  },
  "language_info": {
   "codemirror_mode": {
    "name": "ipython",
    "version": 3
   },
   "file_extension": ".py",
   "mimetype": "text/x-python",
   "name": "python",
   "nbconvert_exporter": "python",
   "pygments_lexer": "ipython3",
   "version": "3.8.0"
  },
  "vscode": {
   "interpreter": {
    "hash": "2a99fcc5dd19f96d836c171b788e9139d93d5a9f2683161c4b033f56cb19f0c4"
   }
  }
 },
 "nbformat": 4,
 "nbformat_minor": 5
}
